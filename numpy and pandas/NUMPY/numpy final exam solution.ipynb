{
 "cells": [
  {
   "cell_type": "markdown",
   "metadata": {},
   "source": [
    "# Mean Normalization\n",
    "\n",
    "In machine learning we use large amounts of data to train our models. Some machine learning algorithms may require that the data is *normalized* in order to work correctly. The idea of normalization, also known as *feature scaling*, is to ensure that all the data is on a similar scale, *i.e.* that all the data takes on a similar range of values. For example, we might have a dataset that has values between 0 and 5,000. By normalizing the data we can make the range of values be between 0 and 1.\n",
    "\n",
    "In this lab, you will be performing a different kind of feature scaling known as *mean normalization*. Mean normalization will scale the data, but instead of making the values be between 0 and 1, it will distribute the values evenly in some small interval around zero. For example, if we have a dataset that has values between 0 and 5,000, after mean normalization the range of values will be distributed in some small range around 0, for example between -3 to 3. Because the range of values are distributed evenly around zero, this guarantees that the average (mean) of all elements will be zero. Therefore, when you perform *mean normalization* your data will not only be scaled but it will also have an average of zero. \n",
    "\n",
    "# To Do:\n",
    "\n",
    "You will start by importing NumPy and creating a rank 2 ndarray of random integers between 0 and 5,000 (inclusive) with 1000 rows and 20 columns. This array will simulate a dataset with a wide range of values. Fill in the code below"
   ]
  },
  {
   "cell_type": "code",
   "execution_count": 2,
   "metadata": {},
   "outputs": [
    {
     "name": "stdout",
     "output_type": "stream",
     "text": [
      "shape of X= (1000, 20)\n"
     ]
    }
   ],
   "source": [
    "# import NumPy into Python\n",
    "\n",
    "import numpy as np\n",
    "# Create a 1000 x 20 ndarray with random integers in the half-open interval [0, 5001).\n",
    "X = np.random.randint(0,5001,size=(1000,20))\n",
    "\n",
    "# print the shape of X\n",
    "print(\"shape of X=\",X.shape)"
   ]
  },
  {
   "cell_type": "markdown",
   "metadata": {},
   "source": [
    "Now that you created the array we will mean normalize it. We will perform mean normalization using the following equation:\n",
    "\n",
    "$\\mbox{Norm_Col}_i = \\frac{\\mbox{Col}_i - \\mu_i}{\\sigma_i}$\n",
    "\n",
    "where $\\mbox{Col}_i$ is the $i$th column of $X$, $\\mu_i$ is average of the values in the $i$th column of $X$, and $\\sigma_i$ is the standard deviation of the values in the $i$th column of $X$. In other words, mean normalization is performed by subtracting from each column of $X$ the average of its values, and then by dividing by the standard deviation of its values. In the space below, you will first calculate the average and standard deviation of each column of $X$. "
   ]
  },
  {
   "cell_type": "code",
   "execution_count": 3,
   "metadata": {},
   "outputs": [],
   "source": [
    "# Average of the values in each column of X\n",
    "ave_cols =np.mean(X,axis=0)\n",
    "\n",
    "# Standard Deviation of the values in each column of X\n",
    "std_cols =np.std(X,axis=0)"
   ]
  },
  {
   "cell_type": "markdown",
   "metadata": {},
   "source": [
    "If you have done the above calculations correctly, then `ave_cols` and `std_cols`, should both be vectors with shape `(20,)` since $X$ has 20 columns. You can verify this by filling the code below:"
   ]
  },
  {
   "cell_type": "code",
   "execution_count": 4,
   "metadata": {},
   "outputs": [
    {
     "name": "stdout",
     "output_type": "stream",
     "text": [
      "ave_cols=\n",
      " [2468.105 2495.316 2436.981 2399.775 2461.391 2516.702 2415.551 2438.94\n",
      " 2549.696 2435.798 2518.77  2535.756 2476.179 2518.65  2561.893 2514.287\n",
      " 2516.295 2501.383 2499.154 2632.258]\n",
      "\n",
      "Shape of ave_cols= (20,)\n",
      "\n",
      "std_cols=\n",
      " [1430.94701159 1465.74188592 1427.85359916 1442.26414307 1459.49284894\n",
      " 1442.12827072 1462.66651408 1416.57323933 1449.69488293 1466.12903634\n",
      " 1450.67914616 1459.04014011 1464.18279493 1427.19028567 1423.99779759\n",
      " 1429.84937061 1437.40066856 1452.08056881 1441.95075307 1454.6429945 ]\n",
      "\n",
      "Shape of std_cols= (20,)\n"
     ]
    }
   ],
   "source": [
    "# Print the shape of ave_cols\n",
    "print(\"ave_cols=\\n\",ave_cols)\n",
    "print()\n",
    "print(\"Shape of ave_cols=\",ave_cols.shape)\n",
    "print()\n",
    "# Print the shape of std_cols\n",
    "print(\"std_cols=\\n\",std_cols)\n",
    "print()\n",
    "print(\"Shape of std_cols=\",std_cols.shape)"
   ]
  },
  {
   "cell_type": "markdown",
   "metadata": {},
   "source": [
    "You can now take advantage of Broadcasting to calculate the mean normalized version of $X$ in just one line of code using the equation above. Fill in the code below"
   ]
  },
  {
   "cell_type": "code",
   "execution_count": 5,
   "metadata": {},
   "outputs": [
    {
     "name": "stdout",
     "output_type": "stream",
     "text": [
      "X_norm=\n",
      " [[-1.12380472  0.56809729  1.26274781 ...  0.3117024   0.15662532\n",
      "   0.87632636]\n",
      " [ 1.62612241 -0.7438663  -1.35446729 ... -0.61317741  0.73847598\n",
      "  -1.54419882]\n",
      " [-0.17827704 -1.33810463  1.00081619 ...  0.57201854 -0.77059081\n",
      "   1.34035774]\n",
      " ...\n",
      " [ 0.38149211  0.80074399  1.05264223 ...  0.29655173  1.33350324\n",
      "  -1.66519071]\n",
      " [-0.74713109  1.63581598 -0.94686248 ... -1.69576197 -0.5590718\n",
      "   1.22692785]\n",
      " [ 1.41437453 -1.13070113 -1.7039429  ... -0.39073796  0.74818505\n",
      "  -1.74493536]]\n"
     ]
    }
   ],
   "source": [
    "# Mean normalize X\n",
    "X_norm =(X-ave_cols)/std_cols\n",
    "print(\"X_norm=\\n\",X_norm)\n"
   ]
  },
  {
   "cell_type": "markdown",
   "metadata": {},
   "source": [
    "If you have performed the mean normalization correctly, then the average of all the elements in $X_{\\tiny{\\mbox{norm}}}$ should be close to zero, and they should be evenly distributed in some small interval around zero. You can verify this by filing the code below:"
   ]
  },
  {
   "cell_type": "code",
   "execution_count": 6,
   "metadata": {},
   "outputs": [
    {
     "name": "stdout",
     "output_type": "stream",
     "text": [
      "ave of X_norm= 9.947598300641403e-18\n",
      "ave of min columns -1.7233799656263833\n",
      "ave of max columns 1.7312921924251572\n"
     ]
    }
   ],
   "source": [
    "# Print the average of all the values of X_norm\n",
    "print(\"ave of X_norm=\",np.mean(X_norm))\n",
    "# Print the average of the minimum value in each column of X_norm\n",
    "min_cols=np.min(X_norm,axis=0)\n",
    "print(\"ave of min columns\",np.mean(min_cols))\n",
    "\n",
    "# Print the average of the maximum value in each column of X_norm\n",
    "max_cols=np.max(X_norm,axis=0)\n",
    "print(\"ave of max columns\",np.mean(max_cols))"
   ]
  },
  {
   "cell_type": "markdown",
   "metadata": {},
   "source": [
    "You should note that since $X$ was created using random integers, the above values will vary. \n",
    "\n",
    "# Data Separation\n",
    "\n",
    "After the data has been mean normalized, it is customary in machine learnig to split our dataset into three sets:\n",
    "\n",
    "1. A Training Set\n",
    "2. A Cross Validation Set\n",
    "3. A Test Set\n",
    "\n",
    "The dataset is usually divided such that the Training Set contains 60% of the data, the Cross Validation Set contains 20% of the data, and the Test Set contains 20% of the data. \n",
    "\n",
    "In this part of the lab you will separate `X_norm` into a Training Set, Cross Validation Set, and a Test Set. Each data set will contain rows of `X_norm` chosen at random, making sure that we don't pick the same row twice. This will guarantee that all the rows of `X_norm` are chosen and randomly distributed among the three new sets.\n",
    "\n",
    "You will start by creating a rank 1 ndarray that contains a random permutation of the row indices of `X_norm`. You can do this by using the `np.random.permutation()` function. The `np.random.permutation(N)` function creates a random permutation of integers from 0 to `N - 1`. Let's see an example:"
   ]
  },
  {
   "cell_type": "code",
   "execution_count": 7,
   "metadata": {},
   "outputs": [
    {
     "data": {
      "text/plain": [
       "array([5, 8, 9, 1, 3, 0, 7, 6, 2, 4])"
      ]
     },
     "execution_count": 7,
     "metadata": {},
     "output_type": "execute_result"
    }
   ],
   "source": [
    "# We create a random permutation of integers 0 to 4\n",
    "np.random.permutation(10)\n"
   ]
  },
  {
   "cell_type": "markdown",
   "metadata": {},
   "source": [
    "# To Do\n",
    "\n",
    "In the space below create a rank 1 ndarray that contains a random permutation of the row indices of `X_norm`. You can do this in one line of code by extracting the number of rows of `X_norm` using the `shape` attribute and then passing it to the  `np.random.permutation()` function. Remember the `shape` attribute returns a tuple with two numbers in the form `(rows,columns)`."
   ]
  },
  {
   "cell_type": "code",
   "execution_count": 14,
   "metadata": {},
   "outputs": [
    {
     "name": "stdout",
     "output_type": "stream",
     "text": [
      "[964 612 326 732  94 858 660 634 551 120 638 580 674 906 651 698 241 865\n",
      " 771 261 843  37 557 501 572 134 599 466 846 983 499 455  45 585 170 757\n",
      "  93 567 244 749 308 639 737 293 860 223  10  77 758 471 359 671 439 985\n",
      " 154 929 419 952 284 699 811 251 575 913 793 213 582 366 754 898 538 197\n",
      "  63 227  85 186 443 885 445 841 948 396 631  54 774 373 974 391 346  95\n",
      " 687  57 763 764 664 208 718 264  32 441 583 388 159 981 970 691 550 621\n",
      " 566 617 826 280 420 564 237 870 536 690 991 465 374 809 610 474 716 804\n",
      " 901 670 469 143 283 158 200 728  42 923  49  72 205 270 767 958 963 910\n",
      " 902 623 415 207 993 937 656 476 954 292 260 895   7 933 508 584 497 324\n",
      " 119 834 622 640 212 299 643 217 535 862 187 864  60 994 314  51 822 344\n",
      " 920 555   8 908 450 819 486 727 956 345 847 122 409 108 855 751 773 842\n",
      " 992 115 149 692 744 729  55 136 544 332 613 925 527 889 142 592 626 851\n",
      " 876   6 857 312 169 453 915 167 433 950 286 784  89 289 730 598 448 269\n",
      " 128 570 893 726 384 972 245 249 173 802 456 884  82 379 787 731 998 648\n",
      " 619   3 747 215 392 798 423 258 785 679 540 165 821 702  40 882 240 463\n",
      " 529 177 267  44 701 185 385 478 591 945 364 447 711 104 936 602 608 636\n",
      " 350 360 682 605 123 753 320   4 371 355 565 762 189 193 378  66  25  83\n",
      " 978 541  84 393 505 999 328 644 431 180 812 886 485 607 451 817 704 330\n",
      " 300 514 789 924 221 343 183 863 432 257 733 778 873 561 932 246 900 219\n",
      " 706 960 132  27 400 387 201 576 872  78 760 160 659 311 620 926  30  56\n",
      " 947 416 824  96 967 118 988 593 495  11 442 909 879 256 940 539 100 297\n",
      " 480 871 805 238 234 110 680 709 830 195 437  81 630 440 807 163 335 306\n",
      " 406 254 168 708 794 686  68 196 509 472 635 410 467 394 356 569 222 975\n",
      "  46 650 721 903  90 479 799 362 741 401 232 769 247 629 736  18 319 449\n",
      " 242 689 171 276  21 452 102 155 835 399 278 216 192 968 368 225 590 627\n",
      " 435 182 797 190 148 866 961 498 305 890 688 927 867 281 597 624  99 425\n",
      " 717 888 179  62 340 738 556 107 481 990 380 105 786 777 658 274 977 697\n",
      " 491 412 710 268 892 462 976 398 336 341 971  31  98 859   2 259 705 164\n",
      " 151 878 918 334 220 464 414  41 277  91 395 665 233 427 209 647 734 614\n",
      "  70 928  23 880 899 349 581 962 236 111 506 813 645 779 139 436 546 250\n",
      " 934 518 700  29 421 939 654 586 202 600 397 616  38 161 490 307  69 759\n",
      " 211 402 363 287 831 325 796 714 780 942 317 725 756 844 662 322 152 265\n",
      " 298  97 434  67 253 524 175 279 912 458 288 801 604 543 776 552 707 783\n",
      "  39 941   5 628 243 199 231 156 488 828  75 558 775 833 138 724 404  48\n",
      " 609 743 996 411 339 248 854   1 562 568 887 944 459 788  15 389 838 883\n",
      " 376 982 337 528  22 904 206 746 461  28 204 194 361 174 496 507 418 302\n",
      " 766  16 768 525 646  59 587 595 791 574 504 489 578 633 986 547 188 386\n",
      " 979 563 922 483 470 235 752 905 894  36  80 512 460 310 135 849 146 117\n",
      " 782   9 825 560 348  43 827  33 255 548 375 266 147 938  61 553 520 408\n",
      " 800 303 815  92 141 210 745  79  26 367 579 484  71 642 106 723 390 611\n",
      " 695 127 263 370 494  53 331 713 803 997 176  64 808 153 510 673  19 693\n",
      " 735 511 951 516  13 515 603 869 101 291  50 989 426 907 537 573 965 162\n",
      " 526 790 275 897 984 315 820 522 230 594 429 761 417 653 327 739 358 748\n",
      " 352 853 987 224 438 290 321 848 856 513 957 917 953 589 935 839 588 121\n",
      " 720 333 806  24 351 500 973 124 755 684 273 678 492   0 675 502 487 606\n",
      " 285 532 519 571 881 601 198 144  87 874 116 637 836 517 381 657 203 750\n",
      " 533 446  14 719 214 493 475 649 534  17 125 980 477 365 229 354 252 430\n",
      " 875 868 181  34  52 457 114 861 530 228 113 810 454 382 342 722 995 150\n",
      " 444 545 103  76 641 712 916  35 473 625 914 823 959 422 282 596 845 313\n",
      " 323  12 661 667 271 655 877  47 347 577 832 316 157 338 503 357 468 652\n",
      " 668 694 239 145 109 329 226 666 632 296 852  73 672 304 677 112 301 795\n",
      " 840 837  65 549 740 829 683 137 930 715 523 428 681 742 969 403 172 663\n",
      " 133 405 685 676 413 931 814  74 424 946 126 765 850 531 383 369 262 818\n",
      " 542 184  20 407 521 696 772 272 178 615 955 130 191 318 816 559 377 140\n",
      " 129 294  88 309 919 792 770 166 131 891 372 482 554 781 618 896 669 295\n",
      " 703  58 218 921  86 943 949 966 911 353]\n"
     ]
    }
   ],
   "source": [
    "# Create a rank 1 ndarray that contains a random permutation of the row indices of `X_norm`\n",
    "import numpy as np\n",
    "\n",
    "row_indices =np.random.permutation(X_norm.shape[0])\n",
    "print(row_indices)"
   ]
  },
  {
   "cell_type": "markdown",
   "metadata": {},
   "source": [
    "Now you can create the three datasets using the `row_indices` ndarray to select the rows that will go into each dataset. Rememeber that the Training Set contains 60% of the data, the Cross Validation Set contains 20% of the data, and the Test Set contains 20% of the data. Each set requires just one line of code to create. Fill in the code below"
   ]
  },
  {
   "cell_type": "code",
   "execution_count": 16,
   "metadata": {},
   "outputs": [],
   "source": [
    "# Make any necessary calculations.\n",
    "# You can save your calculations into variables to use later.\n",
    "\n",
    "\n",
    "# Create a Training Set\n",
    "X_train =X_norm[row_indices[0:600],:]\n",
    "\n",
    "# Create a Cross Validation Set\n",
    "X_crossVal =X_norm[row_indices[600:800],:]\n",
    "\n",
    "\n",
    "# Create a Test Set\n",
    "X_test =X_norm[row_indices[800:],:]"
   ]
  },
  {
   "cell_type": "markdown",
   "metadata": {},
   "source": [
    "If you performed the above calculations correctly, then `X_tain` should have 600 rows and 20 columns, `X_crossVal` should have 200 rows and 20 columns, and `X_test` should have 200 rows and 20 columns. You can verify this by filling the code below:"
   ]
  },
  {
   "cell_type": "code",
   "execution_count": 18,
   "metadata": {},
   "outputs": [
    {
     "name": "stdout",
     "output_type": "stream",
     "text": [
      "shape of X_train= (600, 20)\n",
      "shape of X_train= (200, 20)\n",
      "shape of X_test= (200, 20)\n"
     ]
    }
   ],
   "source": [
    "# Print the shape of X_train\n",
    "print(\"shape of X_train=\",X_train.shape)\n",
    "\n",
    "# Print the shape of X_crossVal\n",
    "\n",
    "print(\"shape of X_train=\",X_crossVal.shape)\n",
    "# Print the shape of X_test\n",
    "print(\"shape of X_test=\",X_test.shape)"
   ]
  },
  {
   "cell_type": "code",
   "execution_count": null,
   "metadata": {},
   "outputs": [],
   "source": []
  }
 ],
 "metadata": {
  "kernelspec": {
   "display_name": "Python 3",
   "language": "python",
   "name": "python3"
  },
  "language_info": {
   "codemirror_mode": {
    "name": "ipython",
    "version": 3
   },
   "file_extension": ".py",
   "mimetype": "text/x-python",
   "name": "python",
   "nbconvert_exporter": "python",
   "pygments_lexer": "ipython3",
   "version": "3.7.3"
  }
 },
 "nbformat": 4,
 "nbformat_minor": 2
}
